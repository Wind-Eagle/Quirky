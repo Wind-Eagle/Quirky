{
 "cells": [
  {
   "cell_type": "code",
   "execution_count": null,
   "metadata": {},
   "outputs": [],
   "source": [
    "import numpy as np\n",
    "import pandas as pd\n",
    "import torch\n",
    "import matplotlib.pyplot as plt\n",
    "from tqdm import tqdm\n",
    "\n",
    "from torch import nn"
   ]
  },
  {
   "cell_type": "code",
   "execution_count": null,
   "metadata": {},
   "outputs": [],
   "source": [
    "TARGET_COLUMN = 'target'\n",
    "METAINFO_COLUMNS = ['stage', 'move_count', 'weight']\n",
    "METAINFO_COLUMNS_COUNT = len(METAINFO_COLUMNS)\n",
    "STAGE_INDEX = 0\n",
    "MOVE_COUNT_INDEX = 1\n",
    "WEIGHT_INDEX = 2\n",
    "TARGET_INDEX = -1\n",
    "\n",
    "STARTPOS_STAGE = 24\n",
    "INPUT_LAYER_SIZE = 64 * 12\n",
    "\n",
    "BATCH_SIZE = 131072\n",
    "TRAIN_SIZE = 0.9"
   ]
  },
  {
   "cell_type": "code",
   "execution_count": null,
   "metadata": {},
   "outputs": [],
   "source": [
    "dataset = np.zeros((0, INPUT_LAYER_SIZE + METAINFO_COLUMNS_COUNT + 1), np.int8)\n",
    "for chunk in tqdm(pd.read_csv('/home/wind-eagle/quirky_data/dataset/01.csv', chunksize=125000)):\n",
    "    dataset = np.append(dataset, chunk.values.astype(np.int8), axis=0)\n",
    "\n",
    "np.random.shuffle(dataset)\n",
    "train_data_size = int(dataset.shape[0] * TRAIN_SIZE)"
   ]
  },
  {
   "cell_type": "code",
   "execution_count": null,
   "metadata": {},
   "outputs": [],
   "source": [
    "class ClippedReLU(nn.Module):\n",
    "    def __init__(self, clip_value: float):\n",
    "        super(ClippedReLU, self).__init__()\n",
    "        self.clip_value = clip_value\n",
    "\n",
    "    def forward(self, x):\n",
    "        return torch.clamp(x.relu(), max=self.clip_value)"
   ]
  },
  {
   "cell_type": "code",
   "execution_count": null,
   "metadata": {},
   "outputs": [],
   "source": [
    "class QNNE(nn.Module):\n",
    "    def __init__(self):\n",
    "        super(QNNE, self).__init__()\n",
    "\n",
    "        self.opening = nn.Sequential()\n",
    "        \n",
    "        self.opening.add_module('linear1', nn.Linear(INPUT_LAYER_SIZE, 16))\n",
    "        self.opening.add_module('clipped_relu1', ClippedReLU(1.0))\n",
    "        self.opening.add_module('linear2', nn.Linear(8, 8))\n",
    "        self.opening.add_module('clipped_relu2', ClippedReLU(1.0))\n",
    "        self.opening.add_module('linear3', nn.Linear(8, 1))\n",
    "        self.opening.add_module('sigmoid', nn.Sigmoid())\n",
    "\n",
    "    def forward(self, x):\n",
    "        return self.opening(x[:, METAINFO_COLUMNS_COUNT:TARGET_INDEX])[:, 0]"
   ]
  },
  {
   "cell_type": "code",
   "execution_count": null,
   "metadata": {},
   "outputs": [],
   "source": [
    "def get_loss(model, X, y, w):\n",
    "    y = (y + 1.0) / 2\n",
    "    y_pred = model(X)\n",
    "    assert y_pred.dim() == 1\n",
    "    loss = torch.sum(w * ((y - y_pred) ** 2)) / torch.sum(w)\n",
    "    return loss"
   ]
  },
  {
   "cell_type": "code",
   "execution_count": null,
   "metadata": {
    "scrolled": true
   },
   "outputs": [],
   "source": [
    "model = QNNE()\n",
    "opt = torch.optim.Adam(model.parameters(), lr=0.01)\n",
    "\n",
    "history = []\n",
    "train_loss = np.inf\n",
    "test_loss = np.inf\n",
    "\n",
    "progress = tqdm(np.arange(12000))\n",
    "for i in progress:\n",
    "    indices = np.random.randint(0, train_data_size, BATCH_SIZE)\n",
    "    X_batch = torch.tensor(dataset[indices], dtype=torch.float32)\n",
    "    y_batch = torch.tensor(dataset[indices, TARGET_INDEX], dtype=torch.float32)\n",
    "    w_batch = torch.tensor(dataset[indices, WEIGHT_INDEX], dtype=torch.float32)\n",
    "    \n",
    "    loss = get_loss(model, X_batch, y_batch, w_batch)\n",
    "\n",
    "    loss.backward()\n",
    "    \n",
    "    opt.step()\n",
    "    opt.zero_grad()\n",
    "\n",
    "    history.append(loss.data.numpy())\n",
    "\n",
    "    if len(history) % 50 == 1:\n",
    "        X_batch = torch.tensor(dataset[train_data_size:], dtype=torch.float32)\n",
    "        y_batch = torch.tensor(dataset[train_data_size:, TARGET_INDEX], dtype=torch.float32)\n",
    "        w_batch = torch.tensor(dataset[train_data_size:, WEIGHT_INDEX], dtype=torch.float32)\n",
    "        test_loss = get_loss(model, X_batch, y_batch, w_batch)\n",
    "\n",
    "    train_loss = np.mean(history[-40:])\n",
    "    progress.set_description(f'Average batch loss = {train_loss:.6f}, test loss = {test_loss:.6f}')"
   ]
  },
  {
   "cell_type": "code",
   "execution_count": null,
   "metadata": {},
   "outputs": [],
   "source": [
    "def print_weights(f, arr):\n",
    "    for i in range(arr.shape[0]):\n",
    "        for j in range(arr.shape[1]):\n",
    "            print(\"{0:0.5f}\".format(arr[i][j]), ' ', file=f, sep=\"\", end=\"\")\n",
    "\n",
    "def print_biases(f, arr):\n",
    "    for i in range(arr.shape[0]):\n",
    "            print(\"{0:0.5f}\".format(arr[i]), ' ', file=f, sep=\"\", end=\"\")\n",
    "\n",
    "with open('model.qnne', 'w') as f:\n",
    "    print_weights(f, model.opening.linear1.weight.T.detach().numpy())\n",
    "    print_weights(f, model.opening.linear2.weight.T.detach().numpy())\n",
    "    print_weights(f, model.opening.linear3.weight.T.detach().numpy())\n",
    "    print_biases(f, model.opening.linear1.bias.detach().numpy())\n",
    "    print_biases(f, model.opening.linear2.bias.detach().numpy())\n",
    "    print_biases(f, model.opening.linear3.bias.detach().numpy())"
   ]
  },
  {
   "cell_type": "code",
   "execution_count": null,
   "metadata": {},
   "outputs": [],
   "source": []
  }
 ],
 "metadata": {
  "kernelspec": {
   "display_name": "Python 3",
   "language": "python",
   "name": "python3"
  },
  "language_info": {
   "codemirror_mode": {
    "name": "ipython",
    "version": 3
   },
   "file_extension": ".py",
   "mimetype": "text/x-python",
   "name": "python",
   "nbconvert_exporter": "python",
   "pygments_lexer": "ipython3",
   "version": "3.8.10"
  }
 },
 "nbformat": 4,
 "nbformat_minor": 4
}
