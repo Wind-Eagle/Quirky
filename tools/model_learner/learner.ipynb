{
 "cells": [
  {
   "cell_type": "code",
   "execution_count": null,
   "metadata": {},
   "outputs": [],
   "source": [
    "import numpy as np\n",
    "import pandas as pd\n",
    "import torch\n",
    "import matplotlib.pyplot as plt\n",
    "from tqdm import tqdm\n",
    "\n",
    "from torch import nn"
   ]
  },
  {
   "cell_type": "code",
   "execution_count": null,
   "metadata": {},
   "outputs": [],
   "source": [
    "TARGET_COLUMN = 'target'\n",
    "METAINFO_COLUMNS = ['stage', 'move_count', 'weight']\n",
    "METAINFO_COLUMNS_COUNT = len(METAINFO_COLUMNS)\n",
    "STAGE_INDEX = 0\n",
    "MOVE_COUNT_INDEX = 1\n",
    "WEIGHT_INDEX = 2\n",
    "TARGET_INDEX = -1\n",
    "\n",
    "STARTPOS_STAGE = 24\n",
    "INPUT_LAYER_SIZE = 64 * 12\n",
    "\n",
    "BATCH_SIZE = 65536\n",
    "TRAIN_SIZE = 0.9"
   ]
  },
  {
   "cell_type": "code",
   "execution_count": null,
   "metadata": {},
   "outputs": [],
   "source": [
    "dataset = np.zeros((0, INPUT_LAYER_SIZE + METAINFO_COLUMNS_COUNT + 1), np.int8)\n",
    "for chunk in tqdm(pd.read_csv('/home/wind-eagle/quirky_data/dataset/01.csv', chunksize=125000)):\n",
    "    dataset = np.append(dataset, chunk.values.astype(np.int8), axis=0)\n",
    "\n",
    "np.random.shuffle(dataset)\n",
    "train_data_size = int(dataset.shape[0] * TRAIN_SIZE)"
   ]
  },
  {
   "cell_type": "code",
   "execution_count": null,
   "metadata": {},
   "outputs": [],
   "source": [
    "class ClippedReLU(nn.Module):\n",
    "    def __init__(self, clip_value: float):\n",
    "        super(ClippedReLU, self).__init__()\n",
    "        self.clip_value = clip_value\n",
    "\n",
    "    def forward(self, x):\n",
    "        return torch.clamp(x.relu(), max=self.clip_value)"
   ]
  },
  {
   "cell_type": "code",
   "execution_count": null,
   "metadata": {},
   "outputs": [],
   "source": [
    "class QNNE(nn.Module):\n",
    "    def __init__(self):\n",
    "        super(QNNE, self).__init__()\n",
    "\n",
    "        self.feature = nn.Sequential()\n",
    "        self.pawns = nn.Sequential()\n",
    "        self.main = nn.Sequential()\n",
    "\n",
    "        self.feature.add_module('linear', nn.Linear(INPUT_LAYER_SIZE, 16))\n",
    "        self.feature.add_module('clipped_relu1', ClippedReLU(1.0))\n",
    "        \n",
    "        self.pawns.add_module('linear', nn.Linear(INPUT_LAYER_SIZE, 16))\n",
    "        self.pawns.add_module('clipped_relu', ClippedReLU(1.0))\n",
    "\n",
    "        self.main.add_module('linear', nn.Linear(32, 8))\n",
    "        self.main.add_module('clipped_relu', ClippedReLU(1.0))\n",
    "        self.main.add_module('output', nn.Linear(8, 1))\n",
    "        self.main.add_module('sigmoid', nn.Sigmoid())\n",
    "\n",
    "    def forward(self, x):\n",
    "        feature_input = self.feature(x[:, METAINFO_COLUMNS_COUNT:TARGET_INDEX])\n",
    "        pawns_data = torch.cat((x[:, METAINFO_COLUMNS_COUNT:METAINFO_COLUMNS_COUNT + 64],\\\n",
    "                                torch.zeros(x.shape[0], 64 * 4),\\\n",
    "                                x[:, METAINFO_COLUMNS_COUNT + 64 * 5:METAINFO_COLUMNS_COUNT + 64 * 6],\\\n",
    "                                x[:, METAINFO_COLUMNS_COUNT + 64 * 6:METAINFO_COLUMNS_COUNT + 64 * 7],\\\n",
    "                                torch.zeros(x.shape[0], 64 * 4),\\\n",
    "                                x[:, METAINFO_COLUMNS_COUNT + 64 * 11:METAINFO_COLUMNS_COUNT + 64 * 12]), dim=1)\n",
    "        pawns_input = self.pawns(pawns_data)\n",
    "        return self.main(torch.cat((feature_input, pawns_input), dim=1))[:, 0]\n"
   ]
  },
  {
   "cell_type": "code",
   "execution_count": null,
   "metadata": {},
   "outputs": [],
   "source": [
    "def get_loss(model, X, y, w):\n",
    "    y = (y + 1.0) / 2\n",
    "    y_pred = model(X)\n",
    "    assert y_pred.dim() == 1\n",
    "    loss = torch.sum(w * ((y - y_pred) ** 2)) / torch.sum(w)\n",
    "    return loss"
   ]
  },
  {
   "cell_type": "code",
   "execution_count": null,
   "metadata": {
    "scrolled": true
   },
   "outputs": [],
   "source": [
    "def train_model(model, opt, iterations):\n",
    "    history = []\n",
    "    train_loss = np.inf\n",
    "    test_loss = np.inf\n",
    "\n",
    "    progress = tqdm(np.arange(iterations))\n",
    "    for i in progress:\n",
    "        indices = np.random.randint(0, train_data_size, BATCH_SIZE)\n",
    "        X_batch = torch.tensor(dataset[indices], dtype=torch.float32)\n",
    "        y_batch = torch.tensor(dataset[indices, TARGET_INDEX], dtype=torch.float32)\n",
    "        w_batch = torch.tensor(dataset[indices, WEIGHT_INDEX], dtype=torch.float32)\n",
    "        \n",
    "        loss = get_loss(model, X_batch, y_batch, w_batch)\n",
    "\n",
    "        loss.backward()\n",
    "        \n",
    "        opt.step()\n",
    "        opt.zero_grad()\n",
    "\n",
    "        with torch.no_grad():\n",
    "            model.main.linear.weight.data = torch.clamp(model.main.linear.weight.data, min=-128.0 / 64.0, max=127.0 / 64.0)\n",
    "            model.main.output.weight.data = torch.clamp(model.main.output.weight.data, min=-128.0 / 64.0, max=127.0 / 64.0)\n",
    "\n",
    "        history.append(loss.data.numpy())\n",
    "\n",
    "        if len(history) % 50 == 1:\n",
    "            X_batch = torch.tensor(dataset[train_data_size:], dtype=torch.float32)\n",
    "            y_batch = torch.tensor(dataset[train_data_size:, TARGET_INDEX], dtype=torch.float32)\n",
    "            w_batch = torch.tensor(dataset[train_data_size:, WEIGHT_INDEX], dtype=torch.float32)\n",
    "            test_loss = get_loss(model, X_batch, y_batch, w_batch)\n",
    "\n",
    "        train_loss = np.mean(history[-40:])\n",
    "        progress.set_description(f'Average batch loss = {train_loss:.6f}, test loss = {test_loss:.6f}')"
   ]
  },
  {
   "cell_type": "code",
   "execution_count": null,
   "metadata": {},
   "outputs": [],
   "source": [
    "def print_weights(f, arr):\n",
    "    for i in range(arr.shape[0]):\n",
    "        for j in range(arr.shape[1]):\n",
    "            print(\"{0:0.5f}\".format(arr[i][j]), ' ', file=f, sep=\"\", end=\"\")\n",
    "\n",
    "def print_biases(f, arr):\n",
    "    for i in range(arr.shape[0]):\n",
    "            print(\"{0:0.5f}\".format(arr[i]), ' ', file=f, sep=\"\", end=\"\")\n",
    "\n",
    "def print_model(model, name):\n",
    "    with open(name, 'w') as f:\n",
    "        feature_transformer_weights = torch.cat((model.feature.linear.weight.T.detach(), model.pawns.linear.weight.T.detach()), dim=1).numpy()\n",
    "        feature_transformer_biases = torch.cat((model.feature.linear.bias.detach(), model.pawns.linear.bias.detach())).numpy()\n",
    "        print_weights(f, feature_transformer_weights)\n",
    "        print_biases(f, feature_transformer_biases)\n",
    "        print_weights(f, model.main.linear.weight.T.detach().numpy())\n",
    "        print_biases(f, model.main.linear.bias.detach().numpy())\n",
    "        print_weights(f, model.main.output.weight.T.detach().numpy())\n",
    "        print_biases(f, model.main.output.bias.detach().numpy())"
   ]
  },
  {
   "cell_type": "code",
   "execution_count": null,
   "metadata": {},
   "outputs": [],
   "source": [
    "model = QNNE()"
   ]
  },
  {
   "cell_type": "code",
   "execution_count": null,
   "metadata": {},
   "outputs": [],
   "source": [
    "def train_model_with_lr(lr, iterations):\n",
    "    opt = torch.optim.Adam(model.parameters(), lr=lr)\n",
    "    train_model(model, opt, iterations)\n",
    "\n",
    "train_model_with_lr(0.01, 10000)\n",
    "train_model_with_lr(0.005, 4000)\n",
    "train_model_with_lr(0.0025, 2500)\n",
    "train_model_with_lr(0.001, 1500)\n",
    "train_model_with_lr(0.0005, 1000)\n",
    "train_model_with_lr(0.00025, 500)\n",
    "train_model_with_lr(0.0001, 500)"
   ]
  },
  {
   "cell_type": "code",
   "execution_count": null,
   "metadata": {},
   "outputs": [],
   "source": [
    "print_model(model, 'model.qnne')"
   ]
  },
  {
   "cell_type": "code",
   "execution_count": null,
   "metadata": {},
   "outputs": [],
   "source": []
  }
 ],
 "metadata": {
  "kernelspec": {
   "display_name": "Python 3",
   "language": "python",
   "name": "python3"
  },
  "language_info": {
   "codemirror_mode": {
    "name": "ipython",
    "version": 3
   },
   "file_extension": ".py",
   "mimetype": "text/x-python",
   "name": "python",
   "nbconvert_exporter": "python",
   "pygments_lexer": "ipython3",
   "version": "3.8.10"
  }
 },
 "nbformat": 4,
 "nbformat_minor": 4
}
