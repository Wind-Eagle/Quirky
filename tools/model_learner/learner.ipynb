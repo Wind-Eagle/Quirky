{
 "cells": [
  {
   "cell_type": "code",
   "execution_count": 1,
   "metadata": {},
   "outputs": [],
   "source": [
    "import numpy as np\n",
    "import pandas as pd\n",
    "import torch\n",
    "import matplotlib.pyplot as plt\n",
    "from tqdm import tqdm\n",
    "\n",
    "from torch import nn\n",
    "from torch.optim.lr_scheduler import ReduceLROnPlateau\n",
    "\n",
    "from IPython.display import display"
   ]
  },
  {
   "cell_type": "code",
   "execution_count": 2,
   "metadata": {},
   "outputs": [],
   "source": [
    "TARGET_COLUMN = 'target'\n",
    "METAINFO_COLUMNS = ['stage', 'move_count', 'weight']\n",
    "METAINFO_COLUMNS_COUNT = len(METAINFO_COLUMNS)\n",
    "STAGE_INDEX = 0\n",
    "MOVE_COUNT_INDEX = 1\n",
    "WEIGHT_INDEX = 2\n",
    "TARGET_INDEX = -1\n",
    "\n",
    "STARTPOS_STAGE = 24\n",
    "INPUT_LAYER_SIZE = 64 * 12\n",
    "\n",
    "BATCH_SIZE = 32768\n",
    "APPROXIMATE_TRAIN_SIZE = 0.99"
   ]
  },
  {
   "cell_type": "code",
   "execution_count": 3,
   "metadata": {},
   "outputs": [
    {
     "name": "stderr",
     "output_type": "stream",
     "text": [
      "18it [01:01,  3.43s/it]\n"
     ]
    },
    {
     "name": "stdout",
     "output_type": "stream",
     "text": [
      "Dataset size = 2153000, Test size = 23080, Batches in epoch: 65\n"
     ]
    }
   ],
   "source": [
    "dataset = np.zeros((0, INPUT_LAYER_SIZE + METAINFO_COLUMNS_COUNT + 1), np.int8)\n",
    "for chunk in tqdm(pd.read_csv('/home/wind-eagle/quirky_data/dataset/01.csv', chunksize=125000)):\n",
    "    dataset = np.append(dataset, chunk.values.astype(np.int8), axis=0)\n",
    "\n",
    "np.random.shuffle(dataset)\n",
    "train_data_size = int(dataset.shape[0] * APPROXIMATE_TRAIN_SIZE) // BATCH_SIZE * BATCH_SIZE\n",
    "epoch_size = train_data_size // BATCH_SIZE\n",
    "\n",
    "print(f'Dataset size = {dataset.shape[0]}, Test size = {dataset.shape[0] - train_data_size}, Batches in epoch: {epoch_size}')"
   ]
  },
  {
   "cell_type": "code",
   "execution_count": 4,
   "metadata": {},
   "outputs": [],
   "source": [
    "class ClippedReLU(nn.Module):\n",
    "    def __init__(self, clip_value: float):\n",
    "        super(ClippedReLU, self).__init__()\n",
    "        self.clip_value = clip_value\n",
    "\n",
    "    def forward(self, x):\n",
    "        return torch.clamp(x.relu(), max=self.clip_value)"
   ]
  },
  {
   "cell_type": "code",
   "execution_count": 5,
   "metadata": {},
   "outputs": [],
   "source": [
    "class QNNE(nn.Module):\n",
    "    def __init__(self):\n",
    "        super(QNNE, self).__init__()\n",
    "\n",
    "        self.feature = nn.Sequential()\n",
    "        self.main = nn.Sequential()\n",
    "\n",
    "        self.feature.add_module('linear', nn.Linear(INPUT_LAYER_SIZE, 32))\n",
    "        self.feature.add_module('clipped_relu', ClippedReLU(1.0))\n",
    "\n",
    "        self.main.add_module('first', nn.Linear(64, 1))\n",
    "        self.main.add_module('sigmoid', nn.Sigmoid())\n",
    "\n",
    "        self.xor_indices = np.zeros(INPUT_LAYER_SIZE)\n",
    "        for i in range(INPUT_LAYER_SIZE):\n",
    "            self.xor_indices[i] = (i % 64) ^ 56 + (i // 64) * 64\n",
    "\n",
    "    def forward(self, x):\n",
    "        return self.main(torch.cat((self.feature(x[:, METAINFO_COLUMNS_COUNT:METAINFO_COLUMNS_COUNT + 64 * 12]),\\\n",
    "                                    self.feature(torch.cat((x[:, METAINFO_COLUMNS_COUNT + 64 * 6:METAINFO_COLUMNS_COUNT + 64 * 12],\\\n",
    "                                    x[:, METAINFO_COLUMNS_COUNT:METAINFO_COLUMNS_COUNT + 64 * 6]), dim=1)[:, self.xor_indices])), dim=1))[:, 0]\n"
   ]
  },
  {
   "cell_type": "code",
   "execution_count": 6,
   "metadata": {},
   "outputs": [],
   "source": [
    "def get_loss(model, X, y, w):\n",
    "    y = (y + 1.0) / 2\n",
    "    y_pred = model(X)\n",
    "    assert y_pred.dim() == 1\n",
    "    loss = torch.sum(w * ((y - y_pred) ** 2)) / torch.sum(w)\n",
    "    return loss"
   ]
  },
  {
   "cell_type": "code",
   "execution_count": 7,
   "metadata": {},
   "outputs": [],
   "source": [
    "plt.rcParams.update({ 'figure.facecolor': 'black', 'axes.facecolor': 'black', 'text.color': 'white', 'axes.labelcolor': 'white', 'xtick.color': 'white', 'ytick.color': 'white' })"
   ]
  },
  {
   "cell_type": "code",
   "execution_count": 8,
   "metadata": {},
   "outputs": [],
   "source": [
    "def train_model(model, opt, scheduler, lr_limit):    \n",
    "    fig = plt.figure()\n",
    "    axes = fig.add_subplot()\n",
    "    hfig = display(fig, display_id=True)\n",
    "    train_plot_data_x, train_plot_data_y, test_plot_data_y = [], [], []\n",
    "    axes.plot(train_plot_data_x, train_plot_data_y)\n",
    "    fig.canvas.draw()\n",
    "    hfig.update(fig)\n",
    "\n",
    "    X_test_batch = torch.tensor(dataset[train_data_size:], dtype=torch.float32)\n",
    "    y_test_batch = torch.tensor(dataset[train_data_size:, TARGET_INDEX], dtype=torch.float32)\n",
    "    w_test_batch = torch.tensor(dataset[train_data_size:, WEIGHT_INDEX], dtype=torch.float32)\n",
    "\n",
    "    epoch_num = 0\n",
    "    with tqdm() as progress:\n",
    "        while True:\n",
    "            if opt.param_groups[0][\"lr\"] + 1e-9 < lr_limit:\n",
    "                break\n",
    "            history = []\n",
    "            np.random.shuffle(dataset[:train_data_size])\n",
    "            for j in range(epoch_size):\n",
    "                X_batch = torch.tensor(dataset[j * BATCH_SIZE : (j + 1) * BATCH_SIZE], dtype=torch.float32)\n",
    "                y_batch = torch.tensor(dataset[j * BATCH_SIZE : (j + 1) * BATCH_SIZE, TARGET_INDEX], dtype=torch.float32)\n",
    "                w_batch = torch.tensor(dataset[j * BATCH_SIZE : (j + 1) * BATCH_SIZE, WEIGHT_INDEX], dtype=torch.float32)\n",
    "                loss = get_loss(model, X_batch, y_batch, w_batch)\n",
    "\n",
    "                loss.backward()\n",
    "                \n",
    "                opt.step()\n",
    "                opt.zero_grad()\n",
    "\n",
    "                with torch.no_grad():\n",
    "                    model.main.first.weight.data = torch.clamp(model.main.first.weight.data, min=-128.0 / 64.0, max=127.0 / 64.0)\n",
    "\n",
    "                history.append(loss.data.numpy())\n",
    "            \n",
    "            train_loss = sum(history) / epoch_size\n",
    "            test_loss = get_loss(model, X_test_batch, y_test_batch, w_test_batch)\n",
    "\n",
    "            scheduler.step(test_loss)\n",
    "\n",
    "            train_plot_data_x.append(epoch_num)\n",
    "            train_plot_data_y.append(train_loss)\n",
    "            test_plot_data_y.append(test_loss.detach().numpy())\n",
    "\n",
    "            axes.cla()\n",
    "            axes.plot(train_plot_data_x[-50:], train_plot_data_y[-50:])\n",
    "            axes.plot(train_plot_data_x[-50:], test_plot_data_y[-50:])\n",
    "            fig.canvas.draw()\n",
    "            hfig.update(fig)\n",
    "\n",
    "            epoch_num += 1\n",
    "            progress.update(1)\n",
    "            progress.set_description(f'Average batch loss = {train_loss:.6f}, test loss = {test_loss:.6f}, lr = {opt.param_groups[0][\"lr\"]:.6f}')\n"
   ]
  },
  {
   "cell_type": "code",
   "execution_count": 9,
   "metadata": {},
   "outputs": [],
   "source": [
    "def print_weights(f, arr):\n",
    "    for i in range(arr.shape[0]):\n",
    "        for j in range(arr.shape[1]):\n",
    "            print(\"{0:0.5f}\".format(arr[i][j]), ' ', file=f, sep=\"\", end=\"\")\n",
    "\n",
    "def print_biases(f, arr):\n",
    "    for i in range(arr.shape[0]):\n",
    "            print(\"{0:0.5f}\".format(arr[i]), ' ', file=f, sep=\"\", end=\"\")\n",
    "\n",
    "def print_model(model, name):\n",
    "    with open(name, 'w') as f:\n",
    "        feature_transformer_weights = model.feature.linear.weight.T.detach().numpy()\n",
    "        feature_transformer_biases = model.feature.linear.bias.detach().numpy()\n",
    "        print_weights(f, feature_transformer_weights)\n",
    "        print_biases(f, feature_transformer_biases)\n",
    "        print_weights(f, model.main.first.weight.T.detach().numpy())\n",
    "        print_biases(f, model.main.first.bias.detach().numpy())"
   ]
  },
  {
   "cell_type": "code",
   "execution_count": 10,
   "metadata": {},
   "outputs": [],
   "source": [
    "import gc\n",
    "gc.collect()\n",
    "model = QNNE()"
   ]
  },
  {
   "cell_type": "code",
   "execution_count": 12,
   "metadata": {},
   "outputs": [
    {
     "data": {
      "image/png": "[encoded data removed]",
      "text/plain": [
       "<Figure size 432x288 with 1 Axes>"
      ]
     },
     "metadata": {},
     "output_type": "display_data"
    },
    {
     "name": "stderr",
     "output_type": "stream",
     "text": [
      "Average batch loss = 0.051912, test loss = 0.056576, lr = 0.000100: : 41it [09:39, 14.14s/it]\n"
     ]
    },
    {
     "ename": "KeyboardInterrupt",
     "evalue": "",
     "output_type": "error",
     "traceback": [
      "\u001b[0;31m---------------------------------------------------------------------------\u001b[0m",
      "\u001b[0;31mKeyboardInterrupt\u001b[0m                         Traceback (most recent call last)",
      "\u001b[0;32m<ipython-input-12-04ba767e4b11>\u001b[0m in \u001b[0;36m<module>\u001b[0;34m\u001b[0m\n\u001b[1;32m      3\u001b[0m \u001b[0;31m# train_model(model, opt, scheduler, 0.01)\u001b[0m\u001b[0;34m\u001b[0m\u001b[0;34m\u001b[0m\u001b[0;34m\u001b[0m\u001b[0m\n\u001b[1;32m      4\u001b[0m \u001b[0mscheduler\u001b[0m \u001b[0;34m=\u001b[0m \u001b[0mReduceLROnPlateau\u001b[0m\u001b[0;34m(\u001b[0m\u001b[0mopt\u001b[0m\u001b[0;34m,\u001b[0m \u001b[0mpatience\u001b[0m\u001b[0;34m=\u001b[0m\u001b[0;36m3\u001b[0m\u001b[0;34m,\u001b[0m \u001b[0mfactor\u001b[0m\u001b[0;34m=\u001b[0m\u001b[0mnp\u001b[0m\u001b[0;34m.\u001b[0m\u001b[0mcbrt\u001b[0m\u001b[0;34m(\u001b[0m\u001b[0;36m0.1\u001b[0m\u001b[0;34m)\u001b[0m\u001b[0;34m)\u001b[0m\u001b[0;34m\u001b[0m\u001b[0;34m\u001b[0m\u001b[0m\n\u001b[0;32m----> 5\u001b[0;31m \u001b[0mtrain_model\u001b[0m\u001b[0;34m(\u001b[0m\u001b[0mmodel\u001b[0m\u001b[0;34m,\u001b[0m \u001b[0mopt\u001b[0m\u001b[0;34m,\u001b[0m \u001b[0mscheduler\u001b[0m\u001b[0;34m,\u001b[0m \u001b[0;36m0.0001\u001b[0m\u001b[0;34m)\u001b[0m\u001b[0;34m\u001b[0m\u001b[0;34m\u001b[0m\u001b[0m\n\u001b[0m",
      "\u001b[0;32m<ipython-input-8-7e494204b243>\u001b[0m in \u001b[0;36mtrain_model\u001b[0;34m(model, opt, scheduler, lr_limit)\u001b[0m\n\u001b[1;32m     23\u001b[0m                 \u001b[0my_batch\u001b[0m \u001b[0;34m=\u001b[0m \u001b[0mtorch\u001b[0m\u001b[0;34m.\u001b[0m\u001b[0mtensor\u001b[0m\u001b[0;34m(\u001b[0m\u001b[0mdataset\u001b[0m\u001b[0;34m[\u001b[0m\u001b[0mj\u001b[0m \u001b[0;34m*\u001b[0m \u001b[0mBATCH_SIZE\u001b[0m \u001b[0;34m:\u001b[0m \u001b[0;34m(\u001b[0m\u001b[0mj\u001b[0m \u001b[0;34m+\u001b[0m \u001b[0;36m1\u001b[0m\u001b[0;34m)\u001b[0m \u001b[0;34m*\u001b[0m \u001b[0mBATCH_SIZE\u001b[0m\u001b[0;34m,\u001b[0m \u001b[0mTARGET_INDEX\u001b[0m\u001b[0;34m]\u001b[0m\u001b[0;34m,\u001b[0m \u001b[0mdtype\u001b[0m\u001b[0;34m=\u001b[0m\u001b[0mtorch\u001b[0m\u001b[0;34m.\u001b[0m\u001b[0mfloat32\u001b[0m\u001b[0;34m)\u001b[0m\u001b[0;34m\u001b[0m\u001b[0;34m\u001b[0m\u001b[0m\n\u001b[1;32m     24\u001b[0m                 \u001b[0mw_batch\u001b[0m \u001b[0;34m=\u001b[0m \u001b[0mtorch\u001b[0m\u001b[0;34m.\u001b[0m\u001b[0mtensor\u001b[0m\u001b[0;34m(\u001b[0m\u001b[0mdataset\u001b[0m\u001b[0;34m[\u001b[0m\u001b[0mj\u001b[0m \u001b[0;34m*\u001b[0m \u001b[0mBATCH_SIZE\u001b[0m \u001b[0;34m:\u001b[0m \u001b[0;34m(\u001b[0m\u001b[0mj\u001b[0m \u001b[0;34m+\u001b[0m \u001b[0;36m1\u001b[0m\u001b[0;34m)\u001b[0m \u001b[0;34m*\u001b[0m \u001b[0mBATCH_SIZE\u001b[0m\u001b[0;34m,\u001b[0m \u001b[0mWEIGHT_INDEX\u001b[0m\u001b[0;34m]\u001b[0m\u001b[0;34m,\u001b[0m \u001b[0mdtype\u001b[0m\u001b[0;34m=\u001b[0m\u001b[0mtorch\u001b[0m\u001b[0;34m.\u001b[0m\u001b[0mfloat32\u001b[0m\u001b[0;34m)\u001b[0m\u001b[0;34m\u001b[0m\u001b[0;34m\u001b[0m\u001b[0m\n\u001b[0;32m---> 25\u001b[0;31m                 \u001b[0mloss\u001b[0m \u001b[0;34m=\u001b[0m \u001b[0mget_loss\u001b[0m\u001b[0;34m(\u001b[0m\u001b[0mmodel\u001b[0m\u001b[0;34m,\u001b[0m \u001b[0mX_batch\u001b[0m\u001b[0;34m,\u001b[0m \u001b[0my_batch\u001b[0m\u001b[0;34m,\u001b[0m \u001b[0mw_batch\u001b[0m\u001b[0;34m)\u001b[0m\u001b[0;34m\u001b[0m\u001b[0;34m\u001b[0m\u001b[0m\n\u001b[0m\u001b[1;32m     26\u001b[0m \u001b[0;34m\u001b[0m\u001b[0m\n\u001b[1;32m     27\u001b[0m                 \u001b[0mloss\u001b[0m\u001b[0;34m.\u001b[0m\u001b[0mbackward\u001b[0m\u001b[0;34m(\u001b[0m\u001b[0;34m)\u001b[0m\u001b[0;34m\u001b[0m\u001b[0;34m\u001b[0m\u001b[0m\n",
      "\u001b[0;32m<ipython-input-6-7b5d56cac2fb>\u001b[0m in \u001b[0;36mget_loss\u001b[0;34m(model, X, y, w)\u001b[0m\n\u001b[1;32m      1\u001b[0m \u001b[0;32mdef\u001b[0m \u001b[0mget_loss\u001b[0m\u001b[0;34m(\u001b[0m\u001b[0mmodel\u001b[0m\u001b[0;34m,\u001b[0m \u001b[0mX\u001b[0m\u001b[0;34m,\u001b[0m \u001b[0my\u001b[0m\u001b[0;34m,\u001b[0m \u001b[0mw\u001b[0m\u001b[0;34m)\u001b[0m\u001b[0;34m:\u001b[0m\u001b[0;34m\u001b[0m\u001b[0;34m\u001b[0m\u001b[0m\n\u001b[1;32m      2\u001b[0m     \u001b[0my\u001b[0m \u001b[0;34m=\u001b[0m \u001b[0;34m(\u001b[0m\u001b[0my\u001b[0m \u001b[0;34m+\u001b[0m \u001b[0;36m1.0\u001b[0m\u001b[0;34m)\u001b[0m \u001b[0;34m/\u001b[0m \u001b[0;36m2\u001b[0m\u001b[0;34m\u001b[0m\u001b[0;34m\u001b[0m\u001b[0m\n\u001b[0;32m----> 3\u001b[0;31m     \u001b[0my_pred\u001b[0m \u001b[0;34m=\u001b[0m \u001b[0mmodel\u001b[0m\u001b[0;34m(\u001b[0m\u001b[0mX\u001b[0m\u001b[0;34m)\u001b[0m\u001b[0;34m\u001b[0m\u001b[0;34m\u001b[0m\u001b[0m\n\u001b[0m\u001b[1;32m      4\u001b[0m     \u001b[0;32massert\u001b[0m \u001b[0my_pred\u001b[0m\u001b[0;34m.\u001b[0m\u001b[0mdim\u001b[0m\u001b[0;34m(\u001b[0m\u001b[0;34m)\u001b[0m \u001b[0;34m==\u001b[0m \u001b[0;36m1\u001b[0m\u001b[0;34m\u001b[0m\u001b[0;34m\u001b[0m\u001b[0m\n\u001b[1;32m      5\u001b[0m     \u001b[0mloss\u001b[0m \u001b[0;34m=\u001b[0m \u001b[0mtorch\u001b[0m\u001b[0;34m.\u001b[0m\u001b[0msum\u001b[0m\u001b[0;34m(\u001b[0m\u001b[0mw\u001b[0m \u001b[0;34m*\u001b[0m \u001b[0;34m(\u001b[0m\u001b[0;34m(\u001b[0m\u001b[0my\u001b[0m \u001b[0;34m-\u001b[0m \u001b[0my_pred\u001b[0m\u001b[0;34m)\u001b[0m \u001b[0;34m**\u001b[0m \u001b[0;36m2\u001b[0m\u001b[0;34m)\u001b[0m\u001b[0;34m)\u001b[0m \u001b[0;34m/\u001b[0m \u001b[0mtorch\u001b[0m\u001b[0;34m.\u001b[0m\u001b[0msum\u001b[0m\u001b[0;34m(\u001b[0m\u001b[0mw\u001b[0m\u001b[0;34m)\u001b[0m\u001b[0;34m\u001b[0m\u001b[0;34m\u001b[0m\u001b[0m\n",
      "\u001b[0;32m~/.local/lib/python3.8/site-packages/torch/nn/modules/module.py\u001b[0m in \u001b[0;36m_call_impl\u001b[0;34m(self, *args, **kwargs)\u001b[0m\n\u001b[1;32m   1499\u001b[0m                 \u001b[0;32mor\u001b[0m \u001b[0m_global_backward_pre_hooks\u001b[0m \u001b[0;32mor\u001b[0m \u001b[0m_global_backward_hooks\u001b[0m\u001b[0;34m\u001b[0m\u001b[0;34m\u001b[0m\u001b[0m\n\u001b[1;32m   1500\u001b[0m                 or _global_forward_hooks or _global_forward_pre_hooks):\n\u001b[0;32m-> 1501\u001b[0;31m             \u001b[0;32mreturn\u001b[0m \u001b[0mforward_call\u001b[0m\u001b[0;34m(\u001b[0m\u001b[0;34m*\u001b[0m\u001b[0margs\u001b[0m\u001b[0;34m,\u001b[0m \u001b[0;34m**\u001b[0m\u001b[0mkwargs\u001b[0m\u001b[0;34m)\u001b[0m\u001b[0;34m\u001b[0m\u001b[0;34m\u001b[0m\u001b[0m\n\u001b[0m\u001b[1;32m   1502\u001b[0m         \u001b[0;31m# Do not call functions when jit is used\u001b[0m\u001b[0;34m\u001b[0m\u001b[0;34m\u001b[0m\u001b[0;34m\u001b[0m\u001b[0m\n\u001b[1;32m   1503\u001b[0m         \u001b[0mfull_backward_hooks\u001b[0m\u001b[0;34m,\u001b[0m \u001b[0mnon_full_backward_hooks\u001b[0m \u001b[0;34m=\u001b[0m \u001b[0;34m[\u001b[0m\u001b[0;34m]\u001b[0m\u001b[0;34m,\u001b[0m \u001b[0;34m[\u001b[0m\u001b[0;34m]\u001b[0m\u001b[0;34m\u001b[0m\u001b[0;34m\u001b[0m\u001b[0m\n",
      "\u001b[0;32m<ipython-input-5-a1ad362eded1>\u001b[0m in \u001b[0;36mforward\u001b[0;34m(self, x)\u001b[0m\n\u001b[1;32m     18\u001b[0m     \u001b[0;32mdef\u001b[0m \u001b[0mforward\u001b[0m\u001b[0;34m(\u001b[0m\u001b[0mself\u001b[0m\u001b[0;34m,\u001b[0m \u001b[0mx\u001b[0m\u001b[0;34m)\u001b[0m\u001b[0;34m:\u001b[0m\u001b[0;34m\u001b[0m\u001b[0;34m\u001b[0m\u001b[0m\n\u001b[1;32m     19\u001b[0m         return self.main(torch.cat((self.feature(x[:, METAINFO_COLUMNS_COUNT:METAINFO_COLUMNS_COUNT + 64 * 12]),\\\n\u001b[0;32m---> 20\u001b[0;31m                                     self.feature(torch.cat((x[:, METAINFO_COLUMNS_COUNT + 64 * 6:METAINFO_COLUMNS_COUNT + 64 * 12],\\\n\u001b[0m\u001b[1;32m     21\u001b[0m                                     x[:, METAINFO_COLUMNS_COUNT:METAINFO_COLUMNS_COUNT + 64 * 6]), dim=1)[:, self.xor_indices])), dim=1))[:, 0]\n",
      "\u001b[0;31mKeyboardInterrupt\u001b[0m: "
     ]
    },
    {
     "data": {
      "image/png": "[encoded data removed]",
      "text/plain": [
       "<Figure size 432x288 with 1 Axes>"
      ]
     },
     "metadata": {},
     "output_type": "display_data"
    }
   ],
   "source": [
    "opt = torch.optim.Adam(model.parameters(), lr=0.01)\n",
    "scheduler = ReduceLROnPlateau(opt, patience=20, factor=np.cbrt(0.1))\n",
    "train_model(model, opt, scheduler, 0.01)\n",
    "scheduler = ReduceLROnPlateau(opt, patience=3, factor=np.cbrt(0.1))\n",
    "train_model(model, opt, scheduler, 0.0001)"
   ]
  },
  {
   "cell_type": "code",
   "execution_count": 13,
   "metadata": {},
   "outputs": [],
   "source": [
    "print_model(model, 'model.qnne')"
   ]
  },
  {
   "cell_type": "code",
   "execution_count": null,
   "metadata": {},
   "outputs": [],
   "source": []
  }
 ],
 "metadata": {
  "kernelspec": {
   "display_name": "Python 3",
   "language": "python",
   "name": "python3"
  },
  "language_info": {
   "codemirror_mode": {
    "name": "ipython",
    "version": 3
   },
   "file_extension": ".py",
   "mimetype": "text/x-python",
   "name": "python",
   "nbconvert_exporter": "python",
   "pygments_lexer": "ipython3",
   "version": "3.8.10"
  }
 },
 "nbformat": 4,
 "nbformat_minor": 4
}
