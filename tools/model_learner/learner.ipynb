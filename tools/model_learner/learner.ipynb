{
 "cells": [
  {
   "cell_type": "code",
   "execution_count": null,
   "metadata": {},
   "outputs": [],
   "source": [
    "import numpy as np\n",
    "import pandas as pd\n",
    "import torch\n",
    "import matplotlib.pyplot as plt\n",
    "from tqdm import tqdm\n",
    "\n",
    "from torch import nn\n",
    "from torch.optim.lr_scheduler import ReduceLROnPlateau\n",
    "\n",
    "from IPython.display import display"
   ]
  },
  {
   "cell_type": "code",
   "execution_count": null,
   "metadata": {},
   "outputs": [],
   "source": [
    "TARGET_COLUMN = 'target'\n",
    "METAINFO_COLUMNS = ['stage', 'move_count', 'weight']\n",
    "METAINFO_COLUMNS_COUNT = len(METAINFO_COLUMNS)\n",
    "STAGE_INDEX = 0\n",
    "MOVE_COUNT_INDEX = 1\n",
    "WEIGHT_INDEX = 2\n",
    "TARGET_INDEX = -1\n",
    "\n",
    "STARTPOS_STAGE = 24\n",
    "INPUT_LAYER_SIZE = 64 * 12\n",
    "\n",
    "BATCH_SIZE = 65536\n",
    "APPROXIMATE_TRAIN_SIZE = 0.91"
   ]
  },
  {
   "cell_type": "code",
   "execution_count": null,
   "metadata": {},
   "outputs": [],
   "source": [
    "dataset = np.zeros((0, INPUT_LAYER_SIZE + METAINFO_COLUMNS_COUNT + 1), np.int8)\n",
    "for chunk in tqdm(pd.read_csv('/home/wind-eagle/quirky_data/dataset/01.csv', chunksize=125000)):\n",
    "    dataset = np.append(dataset, chunk.values.astype(np.int8), axis=0)\n",
    "\n",
    "np.random.shuffle(dataset)\n",
    "train_data_size = int(dataset.shape[0] * APPROXIMATE_TRAIN_SIZE) // BATCH_SIZE * BATCH_SIZE\n",
    "epoch_size = train_data_size // BATCH_SIZE\n",
    "\n",
    "print(f'Dataset size = {dataset.shape[0]}, Test size = {dataset.shape[0] - train_data_size}, Batches in epoch: {epoch_size}')"
   ]
  },
  {
   "cell_type": "code",
   "execution_count": null,
   "metadata": {},
   "outputs": [],
   "source": [
    "class ClippedReLU(nn.Module):\n",
    "    def __init__(self, clip_value: float):\n",
    "        super(ClippedReLU, self).__init__()\n",
    "        self.clip_value = clip_value\n",
    "\n",
    "    def forward(self, x):\n",
    "        return torch.clamp(x.relu(), max=self.clip_value)"
   ]
  },
  {
   "cell_type": "code",
   "execution_count": null,
   "metadata": {},
   "outputs": [],
   "source": [
    "class QNNE(nn.Module):\n",
    "    def __init__(self):\n",
    "        super(QNNE, self).__init__()\n",
    "\n",
    "        self.feature = nn.Sequential()\n",
    "        self.main = nn.Sequential()\n",
    "\n",
    "        self.feature.add_module('linear', nn.Linear(INPUT_LAYER_SIZE, 16))\n",
    "        self.feature.add_module('clipped_relu', ClippedReLU(1.0))\n",
    "\n",
    "        self.main.add_module('first', nn.Linear(32, 8))\n",
    "        self.main.add_module('clipped_relu1', ClippedReLU(1.0))\n",
    "        self.main.add_module('output', nn.Linear(8, 1))\n",
    "        self.main.add_module('sigmoid', nn.Sigmoid())\n",
    "\n",
    "        self.xor_indices = np.zeros(INPUT_LAYER_SIZE)\n",
    "        for i in range(INPUT_LAYER_SIZE):\n",
    "            self.xor_indices[i] = (i % 64) ^ 56 + (i // 64) * 64\n",
    "\n",
    "    def forward(self, x):\n",
    "        return self.main(torch.cat((self.feature(x[:, METAINFO_COLUMNS_COUNT:METAINFO_COLUMNS_COUNT + 64 * 12]),\\\n",
    "                                    self.feature(torch.cat((x[:, METAINFO_COLUMNS_COUNT + 64 * 6:METAINFO_COLUMNS_COUNT + 64 * 12],\\\n",
    "                                    x[:, METAINFO_COLUMNS_COUNT:METAINFO_COLUMNS_COUNT + 64 * 6]), dim=1)[:, self.xor_indices])), dim=1))[:, 0]\n"
   ]
  },
  {
   "cell_type": "code",
   "execution_count": null,
   "metadata": {},
   "outputs": [],
   "source": [
    "def get_loss(model, X, y, w):\n",
    "    y = (y + 1.0) / 2\n",
    "    y_pred = model(X)\n",
    "    assert y_pred.dim() == 1\n",
    "    loss = torch.sum(w * ((y - y_pred) ** 2)) / torch.sum(w)\n",
    "    return loss"
   ]
  },
  {
   "cell_type": "code",
   "execution_count": null,
   "metadata": {},
   "outputs": [],
   "source": [
    "plt.rcParams.update({ 'figure.facecolor': 'black', 'axes.facecolor': 'black', 'text.color': 'white', 'axes.labelcolor': 'white', 'xtick.color': 'white', 'ytick.color': 'white' })"
   ]
  },
  {
   "cell_type": "code",
   "execution_count": null,
   "metadata": {},
   "outputs": [],
   "source": [
    "def train_model(model, opt, scheduler, lr_limit):    \n",
    "    fig = plt.figure()\n",
    "    axes = fig.add_subplot()\n",
    "    hfig = display(fig, display_id=True)\n",
    "    train_plot_data_x, train_plot_data_y, test_plot_data_y = [], [], []\n",
    "    axes.plot(train_plot_data_x, train_plot_data_y)\n",
    "    fig.canvas.draw()\n",
    "    hfig.update(fig)\n",
    "\n",
    "    X_test_batch = torch.tensor(dataset[train_data_size:], dtype=torch.float32)\n",
    "    y_test_batch = torch.tensor(dataset[train_data_size:, TARGET_INDEX], dtype=torch.float32)\n",
    "    w_test_batch = torch.tensor(dataset[train_data_size:, WEIGHT_INDEX], dtype=torch.float32)\n",
    "\n",
    "    epoch_num = 0\n",
    "    with tqdm() as progress:\n",
    "        while True:\n",
    "            if opt.param_groups[0][\"lr\"] + 1e-9 < lr_limit:\n",
    "                break\n",
    "            history = []\n",
    "            np.random.shuffle(dataset[:train_data_size])\n",
    "            for j in range(epoch_size):\n",
    "                X_batch = torch.tensor(dataset[j * BATCH_SIZE : (j + 1) * BATCH_SIZE], dtype=torch.float32)\n",
    "                y_batch = torch.tensor(dataset[j * BATCH_SIZE : (j + 1) * BATCH_SIZE, TARGET_INDEX], dtype=torch.float32)\n",
    "                w_batch = torch.tensor(dataset[j * BATCH_SIZE : (j + 1) * BATCH_SIZE, WEIGHT_INDEX], dtype=torch.float32)\n",
    "                loss = get_loss(model, X_batch, y_batch, w_batch)\n",
    "\n",
    "                loss.backward()\n",
    "                \n",
    "                opt.step()\n",
    "                opt.zero_grad()\n",
    "\n",
    "                with torch.no_grad():\n",
    "                    model.main.first.weight.data = torch.clamp(model.main.first.weight.data, min=-128.0 / 64.0, max=127.0 / 64.0)\n",
    "                    model.main.output.weight.data = torch.clamp(model.main.output.weight.data, min=-128.0 / 64.0, max=127.0 / 64.0)\n",
    "\n",
    "                history.append(loss.data.numpy())\n",
    "            \n",
    "            train_loss = sum(history) / epoch_size\n",
    "            test_loss = get_loss(model, X_test_batch, y_test_batch, w_test_batch)\n",
    "\n",
    "            scheduler.step(test_loss)\n",
    "\n",
    "            train_plot_data_x.append(epoch_num)\n",
    "            train_plot_data_y.append(train_loss)\n",
    "            test_plot_data_y.append(test_loss.detach().numpy())\n",
    "            \n",
    "            axes.cla()\n",
    "            axes.plot(train_plot_data_x[-50:], train_plot_data_y[-50:])\n",
    "            axes.plot(train_plot_data_x[-50:], test_plot_data_y[-50:])\n",
    "            fig.canvas.draw()\n",
    "            hfig.update(fig)\n",
    "\n",
    "            epoch_num += 1\n",
    "            progress.update(1)\n",
    "            progress.set_description(f'Average batch loss = {train_loss:.6f}, test loss = {test_loss:.6f}, lr = {opt.param_groups[0][\"lr\"]:.6f}')\n"
   ]
  },
  {
   "cell_type": "code",
   "execution_count": null,
   "metadata": {},
   "outputs": [],
   "source": [
    "def print_weights(f, arr):\n",
    "    for i in range(arr.shape[0]):\n",
    "        for j in range(arr.shape[1]):\n",
    "            print(\"{0:0.5f}\".format(arr[i][j]), ' ', file=f, sep=\"\", end=\"\")\n",
    "\n",
    "def print_biases(f, arr):\n",
    "    for i in range(arr.shape[0]):\n",
    "            print(\"{0:0.5f}\".format(arr[i]), ' ', file=f, sep=\"\", end=\"\")\n",
    "\n",
    "def print_model(model, name):\n",
    "    with open(name, 'w') as f:\n",
    "        feature_transformer_weights = model.feature.linear.weight.T.detach().numpy()\n",
    "        feature_transformer_biases = model.feature.linear.bias.detach().numpy()\n",
    "        print_weights(f, feature_transformer_weights)\n",
    "        print_biases(f, feature_transformer_biases)\n",
    "        print_weights(f, model.main.first.weight.T.detach().numpy())\n",
    "        print_biases(f, model.main.first.bias.detach().numpy())\n",
    "        print_weights(f, model.main.output.weight.T.detach().numpy())\n",
    "        print_biases(f, model.main.output.bias.detach().numpy())"
   ]
  },
  {
   "cell_type": "code",
   "execution_count": null,
   "metadata": {},
   "outputs": [],
   "source": [
    "import gc\n",
    "gc.collect()\n",
    "model = QNNE()"
   ]
  },
  {
   "cell_type": "code",
   "execution_count": null,
   "metadata": {},
   "outputs": [],
   "source": [
    "opt = torch.optim.Adam(model.parameters(), lr=0.01)\n",
    "scheduler = ReduceLROnPlateau(opt, patience=50, factor=np.cbrt(0.1))\n",
    "train_model(model, opt, scheduler, 0.01)\n",
    "scheduler = ReduceLROnPlateau(opt, patience=10, factor=np.cbrt(0.1))\n",
    "train_model(model, opt, scheduler, 0.0001)"
   ]
  },
  {
   "cell_type": "code",
   "execution_count": null,
   "metadata": {},
   "outputs": [],
   "source": [
    "print_model(model, 'model.qnne')"
   ]
  }
 ],
 "metadata": {
  "kernelspec": {
   "display_name": "Python 3",
   "language": "python",
   "name": "python3"
  },
  "language_info": {
   "codemirror_mode": {
    "name": "ipython",
    "version": 3
   },
   "file_extension": ".py",
   "mimetype": "text/x-python",
   "name": "python",
   "nbconvert_exporter": "python",
   "pygments_lexer": "ipython3",
   "version": "3.8.10"
  }
 },
 "nbformat": 4,
 "nbformat_minor": 4
}
