{
 "cells": [
  {
   "cell_type": "code",
   "execution_count": 61,
   "metadata": {},
   "outputs": [],
   "source": [
    "import numpy as np\n",
    "import pandas as pd\n",
    "import torch\n",
    "import matplotlib.pyplot as plt\n",
    "from tqdm import tqdm\n",
    "\n",
    "from sklearn.model_selection import cross_val_score, train_test_split\n",
    "from sklearn.linear_model import LogisticRegression\n",
    "from sklearn.preprocessing import StandardScaler, MinMaxScaler\n",
    "from torch import nn\n",
    "from sklearn.feature_selection import SelectKBest"
   ]
  },
  {
   "cell_type": "code",
   "execution_count": 62,
   "metadata": {},
   "outputs": [],
   "source": [
    "TARGET_COLUMN = 'target'\n",
    "METAINFO_COLUMNS = ['stage', 'move_count', 'weight']\n",
    "METAINFO_COLUMNS_COUNT = len(METAINFO_COLUMNS)\n",
    "STAGE_INDEX = 0\n",
    "MOVE_COUNT_INDEX = 1\n",
    "WEIGHT_INDEX = 2\n",
    "TARGET_INDEX = -1\n",
    "\n",
    "STARTPOS_STAGE = 24\n",
    "INPUT_LAYER_SIZE = 64 * 12\n",
    "\n",
    "BATCH_SIZE = 32768"
   ]
  },
  {
   "cell_type": "code",
   "execution_count": 63,
   "metadata": {},
   "outputs": [],
   "source": [
    "dataset = np.zeros((0, INPUT_LAYER_SIZE + METAINFO_COLUMNS_COUNT + 1), np.int16)\n",
    "for chunk in pd.read_csv('/home/wind-eagle/quirky_data/dataset/01.csv', chunksize=32768):\n",
    "    dataset = np.append(dataset, chunk.values.astype(np.int16), axis=0)"
   ]
  },
  {
   "cell_type": "code",
   "execution_count": 68,
   "metadata": {},
   "outputs": [],
   "source": [
    "class ClippedReLU(nn.Module):\n",
    "    def __init__(self, clip_value: float):\n",
    "        super(ClippedReLU, self).__init__()\n",
    "        self.clip_value = clip_value\n",
    "\n",
    "    def forward(self, x):\n",
    "        return torch.clamp(x.relu(), max=self.clip_value)"
   ]
  },
  {
   "cell_type": "code",
   "execution_count": 69,
   "metadata": {},
   "outputs": [],
   "source": [
    "class QNNE(nn.Module):\n",
    "    def __init__(self):\n",
    "        super(QNNE, self).__init__()\n",
    "\n",
    "        self.opening = nn.Sequential()\n",
    "        self.endgame = nn.Sequential()\n",
    "        \n",
    "        self.opening.add_module('linear1', nn.Linear(INPUT_LAYER_SIZE, 8))\n",
    "        self.opening.add_module('clipped_relu1', ClippedReLU(1.0))\n",
    "        self.opening.add_module('linear2', nn.Linear(8, 8))\n",
    "        self.opening.add_module('clipped_relu2', ClippedReLU(1.0))\n",
    "        self.opening.add_module('linear3', nn.Linear(8, 1))\n",
    "        \n",
    "        self.endgame.add_module('linear1', nn.Linear(INPUT_LAYER_SIZE, 8))\n",
    "        self.endgame.add_module('clipped_relu1', ClippedReLU(1.0))\n",
    "        self.endgame.add_module('linear2', nn.Linear(8, 8))\n",
    "        self.endgame.add_module('clipped_relu2', ClippedReLU(1.0))\n",
    "        self.endgame.add_module('linear3', nn.Linear(8, 1))\n",
    "\n",
    "    def forward(self, x):\n",
    "        opening_score = self.opening(x[:, METAINFO_COLUMNS_COUNT:TARGET_INDEX])\n",
    "        endgame_score = self.endgame(x[:, METAINFO_COLUMNS_COUNT:TARGET_INDEX])\n",
    "        score = (opening_score[:, 0] * (1.0 * x[:, STAGE_INDEX]) +\\\n",
    "                endgame_score[:, 0] * (24.0 - 1.0 * x[:, STAGE_INDEX])) / 24.0\n",
    "        return score"
   ]
  },
  {
   "cell_type": "code",
   "execution_count": 72,
   "metadata": {},
   "outputs": [],
   "source": [
    "def get_loss(model, X, y, w):\n",
    "    y = (y + 1.0) / 2\n",
    "    y_pred = 1.0 / (1.0 + torch.exp(-model(X)))\n",
    "    assert y_pred.dim() == 1\n",
    "    loss = torch.sum(w * ((y - y_pred) ** 2)) / torch.sum(w)\n",
    "    return loss"
   ]
  },
  {
   "cell_type": "code",
   "execution_count": 73,
   "metadata": {
    "scrolled": true
   },
   "outputs": [
    {
     "name": "stderr",
     "output_type": "stream",
     "text": [
      "Average batch loss = 0.060627: 100%|██████████| 6000/6000 [12:24<00:00,  8.06it/s]\n"
     ]
    }
   ],
   "source": [
    "model = QNNE()\n",
    "opt = torch.optim.Adam(model.parameters(), lr=0.01)\n",
    "\n",
    "history = []\n",
    "train_loss = np.inf\n",
    "full_train_loss = np.inf\n",
    "\n",
    "progress = tqdm(np.arange(6000))\n",
    "for i in progress:\n",
    "    indices = np.random.randint(0, dataset.shape[0], BATCH_SIZE)\n",
    "    X_batch = torch.tensor(dataset[indices], dtype=torch.float32)\n",
    "    y_batch = torch.tensor(dataset[indices, TARGET_INDEX], dtype=torch.float32)\n",
    "    w_batch = torch.tensor(dataset[indices, WEIGHT_INDEX], dtype=torch.float32)\n",
    "    \n",
    "    loss = get_loss(model, X_batch, y_batch, w_batch)\n",
    "\n",
    "    loss.backward()\n",
    "    \n",
    "    opt.step()\n",
    "    opt.zero_grad()\n",
    "\n",
    "    history.append(loss.data.numpy())\n",
    "\n",
    "    train_loss = np.mean(history[-40:])\n",
    "    progress.set_description(f'Average batch loss = {train_loss:.6f}')"
   ]
  },
  {
   "cell_type": "code",
   "execution_count": 104,
   "metadata": {},
   "outputs": [
    {
     "data": {
      "text/plain": [
       "tensor([-0.1371], grad_fn=<DivBackward0>)"
      ]
     },
     "execution_count": 104,
     "metadata": {},
     "output_type": "execute_result"
    }
   ],
   "source": [
    "X = [np.array([8,1,1,0,0,0,0,0,0,0,0,1,0,0,0,0,0,0,0,0,0,0,1,1,0,0,1,0,0,0,0,0,0,1,0,0,0,0,0,0,1,0,0,0,0,0,0,0,0,0,0,0,0,0,0,0,0,0,0,0,0,0,0,0,0,0,0,0,0,0,0,0,0,0,0,0,0,0,1,0,0,0,0,0,0,0,0,0,0,0,0,0,0,0,0,0,0,0,0,0,0,0,0,0,0,0,0,0,0,0,0,0,0,0,0,0,0,0,0,0,0,0,0,0,0,0,0,0,0,0,0,0,0,0,0,0,0,0,0,0,0,0,0,0,0,0,0,0,0,0,0,0,0,1,0,0,0,0,0,0,0,0,0,0,0,0,0,0,0,0,0,0,0,0,0,0,0,0,0,0,0,0,0,0,0,0,0,0,0,0,0,0,0,0,0,0,0,0,0,0,1,0,0,0,0,0,0,0,0,0,0,0,0,0,0,0,0,0,0,0,0,0,0,0,0,0,0,0,0,0,0,0,0,0,0,0,0,0,0,0,0,0,0,0,0,0,0,0,0,0,0,0,0,0,0,0,0,0,0,0,0,0,0,0,0,0,0,0,0,0,0,0,0,0,0,0,0,0,0,0,0,0,0,0,0,0,0,0,0,0,0,0,0,0,0,0,0,0,0,0,0,0,0,0,0,0,0,0,0,0,0,0,0,0,0,0,0,0,0,0,0,0,0,0,0,0,0,0,0,0,0,0,0,0,0,0,1,0,0,0,0,0,0,0,0,0,0,0,0,0,0,0,0,0,0,0,0,0,0,0,0,0,0,0,0,0,0,0,0,0,0,0,0,0,0,0,0,0,0,0,0,0,0,0,0,0,0,0,0,0,0,0,0,0,0,0,0,0,0,0,0,0,0,0,0,0,0,0,0,0,0,0,0,0,0,0,0,0,0,0,1,1,0,0,0,0,0,1,0,0,0,0,0,0,0,0,0,0,0,0,1,1,1,0,0,0,0,0,0,0,0,0,0,0,0,0,0,0,0,0,0,0,0,0,0,0,0,0,0,0,0,0,0,0,0,0,0,0,0,0,0,0,0,0,0,0,0,0,0,0,0,0,0,0,0,0,0,0,0,0,0,0,0,1,0,0,0,0,0,0,0,0,0,0,0,0,0,0,0,0,0,0,0,0,0,0,0,0,0,0,0,0,0,0,0,0,0,0,0,0,0,0,0,0,0,0,0,0,0,0,0,0,0,0,0,0,1,0,0,0,0,0,0,0,0,0,0,0,0,0,0,0,0,0,0,0,0,0,0,0,0,0,0,0,0,0,0,0,0,0,0,0,0,0,0,0,0,0,0,0,0,0,0,0,0,0,0,0,0,0,0,0,0,0,0,0,0,0,0,0,0,0,0,0,0,0,0,0,0,0,0,0,0,0,0,0,0,0,0,1,0,0,0,0,0,0,0,0,0,0,0,0,0,0,0,0,0,0,0,0,0,0,0,0,0,0,0,0,0,0,0,0,0,0,0,0,0,0,0,0,0,0,0,0,0,0,0,0,0,0,0,0,0,0,0,0,0,0,0,0,0,0,0,0,0,0,0,0,0,0,0,0,0,0,0,0,0,0,0,0,0,0,0,0,0,0,0,0,0,0,0,0,0,0,0,0,0,0,0,0,0,0,0,0,0,0,0,0,0,0,0,0,0,0,0,0,0,0,1,0,0,0,0,0,0,0,0,0,0,0,0,0\\\n",
    "               ])]\n",
    "X = torch.tensor(X, dtype=torch.float32)\n",
    "model(X)"
   ]
  },
  {
   "cell_type": "code",
   "execution_count": 101,
   "metadata": {},
   "outputs": [],
   "source": [
    "def print_weights(f, arr):\n",
    "    for i in range(arr.shape[0]):\n",
    "        for j in range(arr.shape[1]):\n",
    "            print(\"{0:0.5f}\".format(arr[i][j]), ' ', file=f, sep=\"\", end=\"\")\n",
    "\n",
    "def print_biases(f, arr):\n",
    "    for i in range(arr.shape[0]):\n",
    "            print(\"{0:0.5f}\".format(arr[i]), ' ', file=f, sep=\"\", end=\"\")\n",
    "\n",
    "with open('model.qnne', 'w') as f:\n",
    "    print_weights(f, model.opening.linear1.weight.T.detach().numpy())\n",
    "    print_weights(f, model.opening.linear2.weight.T.detach().numpy())\n",
    "    print_weights(f, model.opening.linear3.weight.T.detach().numpy())\n",
    "    print_biases(f, model.opening.linear1.bias.detach().numpy())\n",
    "    print_biases(f, model.opening.linear2.bias.detach().numpy())\n",
    "    print_biases(f, model.opening.linear3.bias.detach().numpy())\n",
    "\n",
    "    print_weights(f, model.endgame.linear1.weight.T.detach().numpy())\n",
    "    print_weights(f, model.endgame.linear2.weight.T.detach().numpy())\n",
    "    print_weights(f, model.endgame.linear3.weight.T.detach().numpy())\n",
    "    print_biases(f, model.endgame.linear1.bias.detach().numpy())\n",
    "    print_biases(f, model.endgame.linear2.bias.detach().numpy())\n",
    "    print_biases(f, model.endgame.linear3.bias.detach().numpy())"
   ]
  },
  {
   "cell_type": "code",
   "execution_count": null,
   "metadata": {},
   "outputs": [],
   "source": []
  }
 ],
 "metadata": {
  "kernelspec": {
   "display_name": "Python 3",
   "language": "python",
   "name": "python3"
  },
  "language_info": {
   "codemirror_mode": {
    "name": "ipython",
    "version": 3
   },
   "file_extension": ".py",
   "mimetype": "text/x-python",
   "name": "python",
   "nbconvert_exporter": "python",
   "pygments_lexer": "ipython3",
   "version": "3.8.10"
  }
 },
 "nbformat": 4,
 "nbformat_minor": 4
}
